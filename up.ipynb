{
  "nbformat": 4,
  "nbformat_minor": 0,
  "metadata": {
    "colab": {
      "name": "up.ipynb",
      "provenance": [],
      "collapsed_sections": [],
      "include_colab_link": true
    },
    "kernelspec": {
      "name": "python3",
      "display_name": "Python 3"
    },
    "language_info": {
      "name": "python"
    }
  },
  "cells": [
    {
      "cell_type": "markdown",
      "metadata": {
        "id": "view-in-github",
        "colab_type": "text"
      },
      "source": [
        "<a href=\"https://colab.research.google.com/github/coderboi36/Paper4/blob/main/up.ipynb\" target=\"_parent\"><img src=\"https://colab.research.google.com/assets/colab-badge.svg\" alt=\"Open In Colab\"/></a>"
      ]
    },
    {
      "cell_type": "markdown",
      "source": [
        "## **tic-tac-toe-toy problem**"
      ],
      "metadata": {
        "id": "21-OOzn71ATC"
      }
    },
    {
      "cell_type": "code",
      "execution_count": null,
      "metadata": {
        "colab": {
          "base_uri": "https://localhost:8080/"
        },
        "id": "p0V1VxfX09eo",
        "outputId": "cedb8113-7908-4e42-d846-d723f1d0abc9"
      },
      "outputs": [
        {
          "output_type": "stream",
          "name": "stdout",
          "text": [
            "Player O turn\n",
            "- - - \n",
            "- - - \n",
            "- - - \n",
            "\n",
            "Player X turn\n",
            "O - - \n",
            "- - - \n",
            "- - - \n",
            "Enter row and column numbers to fix spot: 1 2\n",
            "\n",
            "Player O turn\n",
            "O X - \n",
            "- - - \n",
            "- - - \n"
          ]
        }
      ],
      "source": [
        "import random\n",
        "\n",
        "\n",
        "class TicTacToe:\n",
        "\n",
        "    def __init__(self):\n",
        "        self.board = []\n",
        "\n",
        "    def create_board(self):\n",
        "        for i in range(3):\n",
        "            row = []\n",
        "            for j in range(3):\n",
        "                row.append('-')\n",
        "            self.board.append(row)\n",
        "\n",
        "    def get_random_first_player(self):\n",
        "        return random.randint(0, 1)\n",
        "\n",
        "    def fix_spot(self, row, col, player):\n",
        "        self.board[row][col] = player\n",
        "\n",
        "    def is_player_win(self, player):\n",
        "        win = None\n",
        "\n",
        "        n = len(self.board)\n",
        "\n",
        "        # checking rows\n",
        "        for i in range(n):\n",
        "            win = True\n",
        "            for j in range(n):\n",
        "                if self.board[i][j] != player:\n",
        "                    win = False\n",
        "                    break\n",
        "            if win:\n",
        "                return win\n",
        "\n",
        "        # checking columns\n",
        "        for i in range(n):\n",
        "            win = True\n",
        "            for j in range(n):\n",
        "                if self.board[j][i] != player:\n",
        "                    win = False\n",
        "                    break\n",
        "            if win:\n",
        "                return win\n",
        "\n",
        "        # checking diagonals\n",
        "        win = True\n",
        "        for i in range(n):\n",
        "            if self.board[i][i] != player:\n",
        "                win = False\n",
        "                break\n",
        "        if win:\n",
        "            return win\n",
        "\n",
        "        win = True\n",
        "        for i in range(n):\n",
        "            if self.board[i][n - 1 - i] != player:\n",
        "                win = False\n",
        "                break\n",
        "        if win:\n",
        "            return win\n",
        "        return False\n",
        "\n",
        "        for row in self.board:\n",
        "            for item in row:\n",
        "                if item == '-':\n",
        "                    return False\n",
        "        return True\n",
        "\n",
        "    def is_board_filled(self):\n",
        "        for row in self.board:\n",
        "            for item in row:\n",
        "                if item == '-':\n",
        "                    return False\n",
        "        return True\n",
        "\n",
        "    def swap_player_turn(self, player):\n",
        "        return 'X' if player == 'O' else 'O'\n",
        "\n",
        "    def show_board(self):\n",
        "        for row in self.board:\n",
        "            for item in row:\n",
        "                print(item, end=\" \")\n",
        "            print()\n",
        "\n",
        "    def start(self):\n",
        "        self.create_board()\n",
        "\n",
        "        player = 'X' if self.get_random_first_player() == 1 else 'O'\n",
        "        while True:\n",
        "            print(f\"Player {player} turn\")\n",
        "\n",
        "            self.show_board()\n",
        "\n",
        "            # taking user input\n",
        "            row, col = list(\n",
        "                map(int, input(\"Enter row and column numbers to fix spot: \").split()))\n",
        "            print()\n",
        "\n",
        "            # fixing the spot\n",
        "            self.fix_spot(row - 1, col - 1, player)\n",
        "\n",
        "            # checking whether current player is won or not\n",
        "            if self.is_player_win(player):\n",
        "                print(f\"Player {player} wins the game!\")\n",
        "                break\n",
        "\n",
        "            # checking whether the game is draw or not\n",
        "            if self.is_board_filled():\n",
        "                print(\"Match Draw!\")\n",
        "                break\n",
        "\n",
        "            # swapping the turn\n",
        "            player = self.swap_player_turn(player)\n",
        "\n",
        "        # showing the final view of board\n",
        "        print()\n",
        "        self.show_board()\n",
        "\n",
        "\n",
        "# starting the game\n",
        "tic_tac_toe = TicTacToe()\n",
        "tic_tac_toe.start()\n",
        "\n",
        "\n",
        "\n",
        "\n",
        "# Create a board using a 2-dimensional array and initialize each element as empty.\n",
        "# You can represent empty using any symbol you like. Here, we are going to use a hyphen. '-'.\n",
        "# Write a function to check whether the board is filled or not.\n",
        "# Iterate over the board and return false if the board contains an empty sign or else return true.\n",
        "# Write a function to check whether a player has won or not.\n",
        "# We have to check all the possibilities that we discussed in the previous section.\n",
        "# Check for all the rows, columns, and two diagonals.\n",
        "# Write a function to show the board as we will show the board multiple times to the users while they are playing.\n",
        "# Write a function to start the game.\n",
        "# Select the first turn of the player randomly.\n",
        "# Write an infinite loop that breaks when the game is over (either win or draw).\n",
        "# Show the board to the user to select the spot for the next move.\n",
        "# Ask the user to enter the row and column number.\n",
        "# Update the spot with the respective player sign.\n",
        "# Check whether the current player won the game or not.\n",
        "# If the current player won the game, then print a winning message and break the infinite loop.\n",
        "# Next, check whether the board is filled or not.\n",
        "# If the board is filled, then print the draw message and break the infinite loop.\n",
        "# Finally, show the user the final view of the board."
      ]
    },
    {
      "cell_type": "markdown",
      "source": [
        "# travelling salesman-real world agent problem"
      ],
      "metadata": {
        "id": "qVZHjVJa239s"
      }
    },
    {
      "cell_type": "code",
      "source": [
        "from sys import maxsize\n",
        "from itertools import permutations\n",
        "V = 4\n",
        "\n",
        "def travellingSalesmanProblem(graph, s):\n",
        "\tvertex = []\n",
        "\tfor i in range(V):\n",
        "\t\tif i != s:\n",
        "\t\t\tvertex.append(i)\n",
        "\n",
        "\tmin_path = maxsize\n",
        "\tnext_permutation=permutations(vertex)\n",
        "\tfor i in next_permutation:\n",
        "\t\tcurrent_pathweight = 0\n",
        "\t\tk = s\n",
        "\t\tfor j in i:\n",
        "\t\t\tcurrent_pathweight += graph[k][j]\n",
        "\t\t\tk = j\n",
        "\t\tcurrent_pathweight += graph[k][s]\n",
        "\t\tmin_path = min(min_path, current_pathweight)\n",
        "\t\t\n",
        "\treturn min_path\n",
        "\n",
        "\n",
        "if __name__ == \"__main__\":\n",
        "\tgraph = [[0, 10, 15, 20], [10, 0, 35, 25],\n",
        "\t\t\t[15, 35, 0, 30], [20, 25, 30, 0]]\n",
        "\ts = 0\n",
        "\tprint(travellingSalesmanProblem(graph, s))\n",
        " \n",
        "\n",
        "\n",
        "#  Step 1: Let d[i, j] indicates the distance between cities i and j. Function C[x, V – { x }]is the cost of the path starting from city x. V is the set of cities/vertices in given graph. The aim of TSP is to minimize the cost function. \n",
        "\n",
        "# Step 2:\tAssume that graph contains n vertices V1, V2, ..., Vn. TSP finds a path covering all vertices exactly once, and the same time it tries to minimize the overall traveling distance. \n",
        "\n",
        "# Step 3:\tMathematical formula to find minimum distance is stated below:\n",
        "# C(i, V) = min { d[i, j] + C(j, V – { j }) }, j ∈ V and i ∉ V.\n",
        "\n",
        "# TSP problem possesses the principle of optimality, i.e. for d[V1, Vn] to be minimum, any intermediate path (Vi, Vj) must be minimum."
      ],
      "metadata": {
        "id": "ZMKrbY8r0_Mk",
        "colab": {
          "base_uri": "https://localhost:8080/"
        },
        "outputId": "3642082e-5897-424c-b015-178611f655b8"
      },
      "execution_count": null,
      "outputs": [
        {
          "output_type": "stream",
          "name": "stdout",
          "text": [
            "80\n"
          ]
        }
      ]
    },
    {
      "cell_type": "markdown",
      "source": [
        "# constraint satisfaction problem-cryptarithmetic"
      ],
      "metadata": {
        "id": "LiMT87at6QxV"
      }
    },
    {
      "cell_type": "code",
      "source": [
        "import itertools\n",
        "def solve2():\n",
        "    letters = ('m','a','c','r','j','o','k')\n",
        "    digits = range(10)\n",
        "    answers = []\n",
        "    for perm in itertools.permutations(digits, len(letters)):\n",
        "        sol = dict(zip(letters, perm))\n",
        "        mac = 100 * sol['m'] + 10 * sol['a'] + sol['c']\n",
        "        maar = 1000 * sol['m'] + 100 * sol['a'] + 10 * sol['a'] + sol['r']\n",
        "        jocko = 10000 * sol['j'] + 1000 * sol['o'] + 100 * sol['c'] + 10 * sol['k'] + sol['o']\n",
        "        if mac + maar == jocko:\n",
        "          answers.append([mac, maar , jocko])\n",
        "    return answers\n",
        "print(solve2())\n",
        "\n",
        "\n",
        "\n",
        "# Start by examining the rightmost digit of the topmost row, with a carry of 0\n",
        "# If we are beyond the leftmost digit of the puzzle, return true if no carry, false otherwise\n",
        "# If we are currently trying to assign a char in one of the addends\n",
        "# If char already assigned, just recur on the row beneath this one, adding value into the sum\n",
        "# If not assigned, then\n",
        "# for (every possible choice among the digits not in use)\n",
        "# make that choice and then on row beneath this one, if successful, return true\n",
        "# if !successful, unmake assignment and try another digit\n",
        "# return false if no assignment worked to trigger backtracking\n",
        "# Else if trying to assign a char in the sum\n",
        "# If char assigned & matches correct,\n",
        "# recur on next column to the left with carry, if success return true,\n",
        "# If char assigned & doesn’t match, return false\n",
        "# If char unassigned & correct digit already used, return false\n",
        "# If char unassigned & correct digit unused,\n",
        "# assign it and recur on next column to left with carry, if success return true\n",
        "# return false to trigger backtracking"
      ],
      "metadata": {
        "colab": {
          "base_uri": "https://localhost:8080/"
        },
        "id": "8HwPp5MP6h7f",
        "outputId": "ee639a3d-5384-4ecf-887d-d961ad5bb04b"
      },
      "execution_count": null,
      "outputs": [
        {
          "output_type": "stream",
          "name": "stdout",
          "text": [
            "[[483, 4882, 5365], [865, 8664, 9529], [876, 8773, 9649], [932, 9338, 10270]]\n"
          ]
        }
      ]
    },
    {
      "cell_type": "markdown",
      "source": [
        "# DFS-topological sort for DAG"
      ],
      "metadata": {
        "id": "eQOlY3xa8yzA"
      }
    },
    {
      "cell_type": "code",
      "source": [
        "from collections import defaultdict\n",
        "\n",
        "class Graph:\n",
        "\n",
        "    def __init__(self,n):\n",
        "\n",
        "        self.graph = defaultdict(list)\n",
        "\n",
        "        self.N = n\n",
        "\n",
        "    def addEdge(self,m,n):\n",
        "\n",
        "        self.graph[m].append(n)\n",
        "\n",
        "    def sortUtil(self,n,visited,stack):\n",
        "\n",
        "        visited[n] = True\n",
        "\n",
        "        for element in self.graph[n]:\n",
        "\n",
        "            if visited[element] == False:\n",
        "\n",
        "                self.sortUtil(element,visited,stack)\n",
        "\n",
        "        stack.insert(0,n)\n",
        "\n",
        "    def topologicalSort(self):\n",
        "\n",
        "        visited = [False]*self.N\n",
        "\n",
        "        stack =[]\n",
        "\n",
        "        for element in range(self.N):\n",
        "\n",
        "            if visited[element] == False:\n",
        "\n",
        "                self.sortUtil(element,visited,stack)\n",
        "\n",
        "        print(stack)\n",
        "\n",
        "graph = Graph(5)\n",
        "graph.addEdge(0,1);\n",
        "graph.addEdge(0,3);\n",
        "graph.addEdge(1,2);\n",
        "graph.addEdge(2,3);\n",
        "graph.addEdge(2,4);\n",
        "graph.addEdge(3,4);\n",
        "\n",
        "print(\"The Topological Sort Of The Graph Is:  \")\n",
        "\n",
        "graph.topologicalSort()\n",
        "\n",
        "\n",
        "\n",
        "\n",
        "\n",
        "\n",
        "\n",
        "# Identify the node that has no in-degree(no incoming edges) and select that node as the source node of the graph\n",
        "# Delete the source node with zero in-degree and also delete all its outgoing edges from the graph. Insert the deleted vertex in the result array.\n",
        "# Update the in-degree of the adjacent nodes after deleting the outgoing edges\n",
        "# Repeat step 1 to step 3 until the graph is empty"
      ],
      "metadata": {
        "colab": {
          "base_uri": "https://localhost:8080/"
        },
        "id": "hkn3tMay9NxH",
        "outputId": "f0c66b52-7b02-43db-be16-e53f1794e300"
      },
      "execution_count": null,
      "outputs": [
        {
          "output_type": "stream",
          "name": "stdout",
          "text": [
            "The Topological Sort Of The Graph Is:  \n",
            "[0, 1, 2, 3, 4]\n"
          ]
        }
      ]
    },
    {
      "cell_type": "markdown",
      "source": [
        "# BFS-Water jug problem-2 jug"
      ],
      "metadata": {
        "id": "HniTqXSs_j7H"
      }
    },
    {
      "cell_type": "code",
      "source": [
        "\n",
        "from collections import deque\n",
        " \n",
        "def BFS(a, b, target):\n",
        "     \n",
        "    # Map is used to store the states, every\n",
        "    # state is hashed to binary value to\n",
        "    # indicate either that state is visited\n",
        "    # before or not\n",
        "    m = {}\n",
        "    isSolvable = False\n",
        "    path = []\n",
        "     \n",
        "    # Queue to maintain states\n",
        "    q = deque()\n",
        "     \n",
        "    # Initialing with initial state\n",
        "    q.append((0, 0))\n",
        " \n",
        "    while (len(q) > 0):\n",
        "         \n",
        "        # Current state\n",
        "        u = q.popleft()\n",
        " \n",
        "        #q.pop() #pop off used state\n",
        " \n",
        "        # If this state is already visited\n",
        "        if ((u[0], u[1]) in m):\n",
        "            continue\n",
        " \n",
        "        # Doesn't met jug constraints\n",
        "        if ((u[0] > a or u[1] > b or\n",
        "             u[0] < 0 or u[1] < 0)):\n",
        "            continue\n",
        " \n",
        "        # Filling the vector for constructing\n",
        "        # the solution path\n",
        "        path.append([u[0], u[1]])\n",
        " \n",
        "        # Marking current state as visited\n",
        "        m[(u[0], u[1])] = 1\n",
        " \n",
        "        # If we reach solution state, put ans=1\n",
        "        if (u[0] == target or u[1] == target):\n",
        "            isSolvable = True\n",
        "             \n",
        "            if (u[0] == target):\n",
        "                if (u[1] != 0):\n",
        "                     \n",
        "                    # Fill final state\n",
        "                    path.append([u[0], 0])\n",
        "            else:\n",
        "                if (u[0] != 0):\n",
        " \n",
        "                    # Fill final state\n",
        "                    path.append([0, u[1]])\n",
        " \n",
        "            # Print the solution path\n",
        "            sz = len(path)\n",
        "            for i in range(sz):\n",
        "                print(\"(\", path[i][0], \",\",\n",
        "                           path[i][1], \")\")\n",
        "            break\n",
        " \n",
        "        # If we have not reached final state\n",
        "        # then, start developing intermediate\n",
        "        # states to reach solution state\n",
        "        q.append([u[0], b]) # Fill Jug2\n",
        "        q.append([a, u[1]]) # Fill Jug1\n",
        " \n",
        "        for ap in range(max(a, b) + 1):\n",
        " \n",
        "            # Pour amount ap from Jug2 to Jug1\n",
        "            c = u[0] + ap\n",
        "            d = u[1] - ap\n",
        " \n",
        "            # Check if this state is possible or not\n",
        "            if (c == a or (d == 0 and d >= 0)):\n",
        "                q.append([c, d])\n",
        " \n",
        "            # Pour amount ap from Jug 1 to Jug2\n",
        "            c = u[0] - ap\n",
        "            d = u[1] + ap\n",
        " \n",
        "            # Check if this state is possible or not\n",
        "            if ((c == 0 and c >= 0) or d == b):\n",
        "                q.append([c, d])\n",
        "         \n",
        "        # Empty Jug2\n",
        "        q.append([a, 0])\n",
        "         \n",
        "        # Empty Jug1\n",
        "        q.append([0, b])\n",
        " \n",
        "    # No, solution exists if ans=0\n",
        "    if (not isSolvable):\n",
        "        print (\"No solution\")\n",
        " \n",
        "# Driver code\n",
        "if __name__ == '__main__':\n",
        "     \n",
        "    Jug1, Jug2, target = 5, 3, 2\n",
        "    print(\"Path from initial state \"\n",
        "          \"to solution state ::\")\n",
        "     \n",
        "    BFS(Jug1, Jug2, target)\n",
        "\n",
        "\n",
        "\n",
        "\n",
        "\n",
        "#     Fill up J5.\n",
        "# Pour J5 into J3 until J3 is full, leaving 2 liters in J5.\n",
        "# Empty J3.\n",
        "# Pour the remaining 2 liters from J5 to J3, leaving 2 liters in J3.\n",
        "# Fill up J5.\n",
        "# Pour J5 into J3 until J3 is full, leaving exactly 4 liters in J5. Done!"
      ],
      "metadata": {
        "colab": {
          "base_uri": "https://localhost:8080/"
        },
        "id": "rwHQH6vo_pgd",
        "outputId": "700c78d9-3a23-4538-d9b4-8466d027c963"
      },
      "execution_count": null,
      "outputs": [
        {
          "output_type": "stream",
          "name": "stdout",
          "text": [
            "Path from initial state to solution state ::\n",
            "( 0 , 0 )\n",
            "( 0 , 3 )\n",
            "( 5 , 0 )\n",
            "( 5 , 3 )\n",
            "( 3 , 0 )\n",
            "( 2 , 3 )\n",
            "( 2 , 0 )\n"
          ]
        }
      ]
    },
    {
      "cell_type": "markdown",
      "source": [
        "# tic-tac-toe--minmax"
      ],
      "metadata": {
        "id": "ECx5AlR4B6nF"
      }
    },
    {
      "cell_type": "code",
      "source": [
        "player, opponent = 'x', 'o'\n",
        " \n",
        "# This function returns true if there are moves\n",
        "# remaining on the board. It returns false if\n",
        "# there are no moves left to play.\n",
        "def isMovesLeft(board) :\n",
        " \n",
        "    for i in range(3) :\n",
        "        for j in range(3) :\n",
        "            if (board[i][j] == '_') :\n",
        "                return True\n",
        "    return False\n",
        " \n",
        "\n",
        "def evaluate(b) :\n",
        "   \n",
        "    # Checking for Rows for X or O victory.\n",
        "    for row in range(3) :    \n",
        "        if (b[row][0] == b[row][1] and b[row][1] == b[row][2]) :       \n",
        "            if (b[row][0] == player) :\n",
        "                return 10\n",
        "            elif (b[row][0] == opponent) :\n",
        "                return -10\n",
        " \n",
        "    # Checking for Columns for X or O victory.\n",
        "    for col in range(3) :\n",
        "      \n",
        "        if (b[0][col] == b[1][col] and b[1][col] == b[2][col]) :\n",
        "         \n",
        "            if (b[0][col] == player) :\n",
        "                return 10\n",
        "            elif (b[0][col] == opponent) :\n",
        "                return -10\n",
        " \n",
        "    # Checking for Diagonals for X or O victory.\n",
        "    if (b[0][0] == b[1][1] and b[1][1] == b[2][2]) :\n",
        "     \n",
        "        if (b[0][0] == player) :\n",
        "            return 10\n",
        "        elif (b[0][0] == opponent) :\n",
        "            return -10\n",
        " \n",
        "    if (b[0][2] == b[1][1] and b[1][1] == b[2][0]) :\n",
        "     \n",
        "        if (b[0][2] == player) :\n",
        "            return 10\n",
        "        elif (b[0][2] == opponent) :\n",
        "            return -10\n",
        " \n",
        "    # Else if none of them have won then return 0\n",
        "    return 0\n",
        " \n",
        "# This is the minimax function. It considers all\n",
        "# the possible ways the game can go and returns\n",
        "# the value of the board\n",
        "def minimax(board, depth, isMax) :\n",
        "    score = evaluate(board)\n",
        " \n",
        "    # If Maximizer has won the game return his/her\n",
        "    # evaluated score\n",
        "    if (score == 10) :\n",
        "        return score\n",
        " \n",
        "    # If Minimizer has won the game return his/her\n",
        "    # evaluated score\n",
        "    if (score == -10) :\n",
        "        return score\n",
        " \n",
        "    # If there are no more moves and no winner then\n",
        "    # it is a tie\n",
        "    if (isMovesLeft(board) == False) :\n",
        "        return 0\n",
        " \n",
        "    # If this maximizer's move\n",
        "    if (isMax) :    \n",
        "        best = -1000\n",
        " \n",
        "        # Traverse all cells\n",
        "        for i in range(3) :        \n",
        "            for j in range(3) :\n",
        "              \n",
        "                # Check if cell is empty\n",
        "                if (board[i][j]=='_') :\n",
        "                 \n",
        "                    # Make the move\n",
        "                    board[i][j] = player\n",
        " \n",
        "                    # Call minimax recursively and choose\n",
        "                    # the maximum value\n",
        "                    best = max( best, minimax(board,\n",
        "                                              depth + 1,\n",
        "                                              not isMax) )\n",
        " \n",
        "                    # Undo the move\n",
        "                    board[i][j] = '_'\n",
        "        return best\n",
        " \n",
        "    # If this minimizer's move\n",
        "    else :\n",
        "        best = 1000\n",
        " \n",
        "        # Traverse all cells\n",
        "        for i in range(3) :        \n",
        "            for j in range(3) :\n",
        "              \n",
        "                # Check if cell is empty\n",
        "                if (board[i][j] == '_') :\n",
        "                 \n",
        "                    # Make the move\n",
        "                    board[i][j] = opponent\n",
        " \n",
        "                    # Call minimax recursively and choose\n",
        "                    # the minimum value\n",
        "                    best = min(best, minimax(board, depth + 1, not isMax))\n",
        " \n",
        "                    # Undo the move\n",
        "                    board[i][j] = '_'\n",
        "        return best\n",
        " \n",
        "# This will return the best possible move for the player\n",
        "def findBestMove(board) :\n",
        "    bestVal = -1000\n",
        "    bestMove = (-1, -1)\n",
        " \n",
        "    # Traverse all cells, evaluate minimax function for\n",
        "    # all empty cells. And return the cell with optimal\n",
        "    # value.\n",
        "    for i in range(3) :    \n",
        "        for j in range(3) :\n",
        "         \n",
        "            # Check if cell is empty\n",
        "            if (board[i][j] == '_') :\n",
        "             \n",
        "                # Make the move\n",
        "                board[i][j] = player\n",
        " \n",
        "                # compute evaluation function for this\n",
        "                # move.\n",
        "                moveVal = minimax(board, 0, False)\n",
        " \n",
        "                # Undo the move\n",
        "                board[i][j] = '_'\n",
        " \n",
        "                # If the value of the current move is\n",
        "                # more than the best value, then update\n",
        "                # best/\n",
        "                if (moveVal > bestVal) :               \n",
        "                    bestMove = (i, j)\n",
        "                    bestVal = moveVal\n",
        " \n",
        "    print(\"The value of the best Move is :\", bestVal)\n",
        "    print()\n",
        "    return bestMove\n",
        "# Driver code\n",
        "board = [\n",
        "    [ 'x', 'o', 'x' ],\n",
        "    [ 'o', 'o', 'x' ],\n",
        "    [ '_', '_', '_' ]\n",
        "]\n",
        " \n",
        "bestMove = findBestMove(board)\n",
        " \n",
        "print(\"The Optimal Move is :\")\n",
        "print(\"ROW:\", bestMove[0], \" COL:\", bestMove[1])\n",
        "\n",
        "\n",
        "\n",
        "\n",
        "\n",
        "#moves\n",
        "#positive is good for black and negative is good for O.\n",
        "# Left Move : If X plays [2,0]. Then O will play [2,1] and win the game. The value of this move is -10\n",
        "# Middle Move : If X plays [2,1]. Then O will play [2,2] which draws the game. The value of this move is 0\n",
        "# Right Move : If X plays [2,2]. Then he will win the game. The value of this move is +10;"
      ],
      "metadata": {
        "colab": {
          "base_uri": "https://localhost:8080/"
        },
        "id": "ZWm8HT3GB9z6",
        "outputId": "6efd5395-f90c-4e15-8b80-271e19fdb718"
      },
      "execution_count": null,
      "outputs": [
        {
          "output_type": "stream",
          "name": "stdout",
          "text": [
            "The value of the best Move is : 10\n",
            "\n",
            "The Optimal Move is :\n",
            "ROW: 2  COL: 2\n"
          ]
        }
      ]
    },
    {
      "cell_type": "markdown",
      "source": [
        "Best first search-graph problem"
      ],
      "metadata": {
        "id": "9ELdzdYyDUo6"
      }
    },
    {
      "cell_type": "code",
      "source": [
        "# This class represent a graph\n",
        "class Graph:\n",
        "    # Initialize the class\n",
        "    def __init__(self, graph_dict=None, directed=True):\n",
        "        self.graph_dict = graph_dict or {}\n",
        "        self.directed = directed\n",
        "        if not directed:\n",
        "            self.make_undirected()\n",
        "    # Create an undirected graph by adding symmetric edges\n",
        "    def make_undirected(self):\n",
        "        for a in list(self.graph_dict.keys()):\n",
        "            for (b, dist) in self.graph_dict[a].items():\n",
        "                self.graph_dict.setdefault(b, {})[a] = dist\n",
        "    # Add a link from A and B of given distance, and also add the inverse link if the graph is undirected\n",
        "    def connect(self, A, B, distance=1):\n",
        "        self.graph_dict.setdefault(A, {})[B] = distance\n",
        "        if not self.directed:\n",
        "            self.graph_dict.setdefault(B, {})[A] = distance\n",
        "    # Get neighbors or a neighbor\n",
        "    def get(self, a, b=None):\n",
        "        links = self.graph_dict.setdefault(a, {})\n",
        "        if b is None:\n",
        "            return links\n",
        "        else:\n",
        "            return links.get(b)\n",
        "    # Return a list of nodes in the graph\n",
        "    def nodes(self):\n",
        "        s1 = set([k for k in self.graph_dict.keys()])\n",
        "        s2 = set([k2 for v in self.graph_dict.values() for k2, v2 in v.items()])\n",
        "        nodes = s1.union(s2)\n",
        "        return list(nodes)\n",
        "# This class represent a node\n",
        "class Node:\n",
        "    # Initialize the class\n",
        "    def __init__(self, name:str, parent:str):\n",
        "        self.name = name\n",
        "        self.parent = parent\n",
        "        self.g = 0 # Distance to start node\n",
        "        self.h = 0 # Distance to goal node\n",
        "        self.f = 0 # Total cost\n",
        "    # Compare nodes\n",
        "    def __eq__(self, other):\n",
        "        return self.name == other.name\n",
        "    # Sort nodes\n",
        "    def __lt__(self, other):\n",
        "         return self.f < other.f\n",
        "    # Print node\n",
        "    def __repr__(self):\n",
        "        return ('({0},{1})'.format(self.position, self.f))\n",
        "# Best-first search\n",
        "def best_first_search(graph, heuristics, start, end):\n",
        "    \n",
        "    # Create lists for open nodes and closed nodes\n",
        "    open = []\n",
        "    closed = []\n",
        "    # Create a start node and an goal node\n",
        "    start_node = Node(start, None)\n",
        "    goal_node = Node(end, None)\n",
        "    # Add the start node\n",
        "    open.append(start_node)\n",
        "    \n",
        "    # Loop until the open list is empty\n",
        "    while len(open) > 0:\n",
        "        # Sort the open list to get the node with the lowest cost first\n",
        "        open.sort()\n",
        "        # Get the node with the lowest cost\n",
        "        current_node = open.pop(0)\n",
        "        # Add the current node to the closed list\n",
        "        closed.append(current_node)\n",
        "        \n",
        "        # Check if we have reached the goal, return the path\n",
        "        if current_node == goal_node:\n",
        "            path = []\n",
        "            while current_node != start_node:\n",
        "                path.append(current_node.name + ': ' + str(current_node.g))\n",
        "                current_node = current_node.parent\n",
        "            path.append(start_node.name + ': ' + str(start_node.g))\n",
        "            # Return reversed path\n",
        "            return path[::-1]\n",
        "        # Get neighbours\n",
        "        neighbors = graph.get(current_node.name)\n",
        "        # Loop neighbors\n",
        "        for key, value in neighbors.items():\n",
        "            # Create a neighbor node\n",
        "            neighbor = Node(key, current_node)\n",
        "            # Check if the neighbor is in the closed list\n",
        "            if(neighbor in closed):\n",
        "                continue\n",
        "            # Calculate cost to goal\n",
        "            neighbor.g = current_node.g + graph.get(current_node.name, neighbor.name)\n",
        "            neighbor.h = heuristics.get(neighbor.name)\n",
        "            neighbor.f = neighbor.h\n",
        "            # Check if neighbor is in open list and if it has a lower f value\n",
        "            if(add_to_open(open, neighbor) == True):\n",
        "                # Everything is green, add neighbor to open list\n",
        "                open.append(neighbor)\n",
        "    # Return None, no path is found\n",
        "    return None\n",
        "# Check if a neighbor should be added to open list\n",
        "def add_to_open(open, neighbor):\n",
        "    for node in open:\n",
        "        if (neighbor == node and neighbor.f >= node.f):\n",
        "            return False\n",
        "    return True\n",
        "# The main entry point for this module\n",
        "def main():\n",
        "    # Create a graph\n",
        "    graph = Graph()\n",
        "    # Create graph connections (Actual distance)\n",
        "    graph.connect('Frankfurt', 'Wurzburg', 111)\n",
        "    graph.connect('Frankfurt', 'Mannheim', 85)\n",
        "    graph.connect('Wurzburg', 'Nurnberg', 104)\n",
        "    graph.connect('Wurzburg', 'Stuttgart', 140)\n",
        "    graph.connect('Wurzburg', 'Ulm', 183)\n",
        "    graph.connect('Mannheim', 'Nurnberg', 230)\n",
        "    graph.connect('Mannheim', 'Karlsruhe', 67)\n",
        "    graph.connect('Karlsruhe', 'Basel', 191)\n",
        "    graph.connect('Karlsruhe', 'Stuttgart', 64)\n",
        "    graph.connect('Nurnberg', 'Ulm', 171)\n",
        "    graph.connect('Nurnberg', 'Munchen', 170)\n",
        "    graph.connect('Nurnberg', 'Passau', 220)\n",
        "    graph.connect('Stuttgart', 'Ulm', 107)\n",
        "    graph.connect('Basel', 'Bern', 91)\n",
        "    graph.connect('Basel', 'Zurich', 85)\n",
        "    graph.connect('Bern', 'Zurich', 120)\n",
        "    graph.connect('Zurich', 'Memmingen', 184)\n",
        "    graph.connect('Memmingen', 'Ulm', 55)\n",
        "    graph.connect('Memmingen', 'Munchen', 115)\n",
        "    graph.connect('Munchen', 'Ulm', 123)\n",
        "    graph.connect('Munchen', 'Passau', 189)\n",
        "    graph.connect('Munchen', 'Rosenheim', 59)\n",
        "    graph.connect('Rosenheim', 'Salzburg', 81)\n",
        "    graph.connect('Passau', 'Linz', 102)\n",
        "    graph.connect('Salzburg', 'Linz', 126)\n",
        "    # Make graph undirected, create symmetric connections\n",
        "    graph.make_undirected()\n",
        "    # Create heuristics (straight-line distance, air-travel distance)\n",
        "    heuristics = {}\n",
        "    heuristics['Basel'] = 204\n",
        "    heuristics['Bern'] = 247\n",
        "    heuristics['Frankfurt'] = 215\n",
        "    heuristics['Karlsruhe'] = 137\n",
        "    heuristics['Linz'] = 318\n",
        "    heuristics['Mannheim'] = 164\n",
        "    heuristics['Munchen'] = 120\n",
        "    heuristics['Memmingen'] = 47\n",
        "    heuristics['Nurnberg'] = 132\n",
        "    heuristics['Passau'] = 257\n",
        "    heuristics['Rosenheim'] = 168\n",
        "    heuristics['Stuttgart'] = 75\n",
        "    heuristics['Salzburg'] = 236\n",
        "    heuristics['Wurzburg'] = 153\n",
        "    heuristics['Zurich'] = 157\n",
        "    heuristics['Ulm'] = 0\n",
        "    # Run search algorithm\n",
        "    path = best_first_search(graph, heuristics, 'Frankfurt', 'Ulm')\n",
        "    print(path)\n",
        "    print()\n",
        "# Tell python to run main method\n",
        "if __name__ == \"__main__\": main()\n",
        "\n",
        "\n",
        "\n",
        "\n",
        "\n",
        "\n",
        "\n",
        "\n",
        "# We have created a graph from a map in this problem, actual distances is used in the graph. The goal is to find the shortest path from one city \n",
        "# to another city. We are using a Graph class and a Node class in the best-first \n",
        "# search algorithm. We are using straight-line distances (air-travel distances) \n",
        "# between cities as our heuristic, these distances will never overestimate the actual distances between cities.\n",
        "\n",
        "# Best first search is a informed traversal technique that decides which node is to be visited next by checking which node is \n",
        "# the most promising one and then check it. For this it uses an evaluation function to decide the traversal.\n",
        "# # Step 1 : Create a priorityQueue pqueue.\n",
        "# Step 2 : insert ‘start’ in pqueue : pqueue.insert(start)\n",
        "# Step 3 : delete all elements of pqueue one by one.\n",
        "#    Step 3.1 : if, the element is goal . Exit.\n",
        "#    Step 3.2 : else, traverse neighbours and mark the node examined.\n",
        "# Step 4 : End."
      ],
      "metadata": {
        "colab": {
          "base_uri": "https://localhost:8080/"
        },
        "id": "j_Ffke1PDdnW",
        "outputId": "c0a5d0c6-0dda-4511-ca25-71b9fc11e32c"
      },
      "execution_count": null,
      "outputs": [
        {
          "output_type": "stream",
          "name": "stdout",
          "text": [
            "['Frankfurt: 0', 'Wurzburg: 111', 'Ulm: 294']\n",
            "\n"
          ]
        }
      ]
    },
    {
      "cell_type": "markdown",
      "source": [
        "# A* search"
      ],
      "metadata": {
        "id": "JH2L8QNJGub6"
      }
    },
    {
      "cell_type": "code",
      "source": [
        "class box():\n",
        "    \"\"\"A box class for A* Pathfinding\"\"\"\n",
        "\n",
        "    def __init__(self, parent=None, position=None):\n",
        "        self.parent = parent\n",
        "        self.position = position\n",
        "\n",
        "        self.g = 0\n",
        "        self.h = 0\n",
        "        self.f = 0\n",
        "\n",
        "    def __eq__(self, other):\n",
        "        return self.position == other.position\n",
        "\n",
        "\n",
        "def astar(maze, start, end):\n",
        "    \"\"\"Returns a list of tuples as a path from the given start to the given end in the given board\"\"\"\n",
        "\n",
        "    # Create start and end node\n",
        "    start_node = box(None, start)\n",
        "    start_node.g = start_node.h = start_node.f = 0\n",
        "    end_node = box(None, end)\n",
        "    end_node.g = end_node.h = end_node.f = 0\n",
        "\n",
        "    # Initialize both open and closed list\n",
        "    open_list = []\n",
        "    closed_list = []\n",
        "\n",
        "    # Add the start node\n",
        "    open_list.append(start_node)\n",
        "\n",
        "    # Loop until you find the end\n",
        "    while len(open_list) > 0:\n",
        "\n",
        "        # Get the current node\n",
        "        current_node = open_list[0]\n",
        "        current_index = 0\n",
        "        for index, item in enumerate(open_list):\n",
        "            if item.f < current_node.f:\n",
        "                current_node = item\n",
        "                current_index = index\n",
        "\n",
        "        # Pop current off open list, add to closed list\n",
        "        open_list.pop(current_index)\n",
        "        closed_list.append(current_node)\n",
        "\n",
        "        # Found the goal\n",
        "        if current_node == end_node:\n",
        "            path = []\n",
        "            current = current_node\n",
        "            while current is not None:\n",
        "                path.append(current.position)\n",
        "                current = current.parent\n",
        "            return path[::-1] # Return reversed path\n",
        "\n",
        "        # Generate children\n",
        "        children = []\n",
        "        for new_position in [(0, -1), (0, 1), (-1, 0), (1, 0), (-1, -1), (-1, 1), (1, -1), (1, 1)]: # Adjacent squares\n",
        "\n",
        "            # Get node position\n",
        "            node_position = (current_node.position[0] + new_position[0], current_node.position[1] + new_position[1])\n",
        "\n",
        "            # Make sure within range\n",
        "            if node_position[0] > (len(maze) - 1) or node_position[0] < 0 or node_position[1] > (len(maze[len(maze)-1]) -1) or node_position[1] < 0:\n",
        "                continue\n",
        "\n",
        "            # Make sure walkable terrain\n",
        "            if maze[node_position[0]][node_position[1]] != 0:\n",
        "                continue\n",
        "\n",
        "            # Create new node\n",
        "            new_node = box(current_node, node_position)\n",
        "\n",
        "            # Append\n",
        "            children.append(new_node)\n",
        "\n",
        "        # Loop through children\n",
        "        for child in children:\n",
        "\n",
        "            # Child is on the closed list\n",
        "            for closed_child in closed_list:\n",
        "                if child == closed_child:\n",
        "                    continue\n",
        "\n",
        "            # Create the f, g, and h values\n",
        "            child.g = current_node.g + 1\n",
        "            child.h = ((child.position[0] - end_node.position[0]) ** 2) + ((child.position[1] - end_node.position[1]) ** 2)\n",
        "            child.f = child.g + child.h\n",
        "\n",
        "            # Child is already in the open list\n",
        "            for open_node in open_list:\n",
        "                if child == open_node and child.g > open_node.g:\n",
        "                    continue\n",
        "\n",
        "            # Add the child to the open list\n",
        "            open_list.append(child)\n",
        "\n",
        "\n",
        "def main():\n",
        "\n",
        "    board = [[0, 0, 0, 0, 1, 0, 0, 0, 0, 0],\n",
        "            [0, 0, 0, 0, 1, 0, 0, 0, 0, 0],\n",
        "            [0, 0, 0, 0, 1, 0, 0, 0, 0, 0],\n",
        "            [0, 0, 0, 0, 1, 0, 0, 0, 0, 0],\n",
        "            [0, 0, 0, 0, 1, 0, 0, 0, 0, 0],\n",
        "            [0, 0, 0, 0, 0, 0, 0, 0, 0, 0],\n",
        "            [0, 0, 0, 0, 1, 0, 0, 0, 0, 0]]\n",
        "\n",
        "    start = (0, 0)\n",
        "    end = (6, 6)\n",
        "\n",
        "    path = astar(board, start, end)\n",
        "    print(path)\n",
        "\n",
        "\n",
        "if __name__ == '__main__':\n",
        "    main()\n",
        "\n",
        "\n",
        "\n",
        "\n",
        "\n",
        "# A * algorithm is a searching algorithm that searches for the shortest path between the\n",
        "#  initial and the final state using heuristic functions. It is used in various applications, such as maps.\n",
        "\n",
        "# In maps the A* algorithm is used to calculate the shortest distance between the source \n",
        "# (initial state) and the destination (final state).\n",
        "\n",
        "\n",
        "# Step1: Place the starting node in the OPEN list.\n",
        "\n",
        "# Step 2: Check if the OPEN list is empty or not, if the list is empty then return failure and stops.\n",
        "\n",
        "# Step 3: Select the node from the OPEN list which has the smallest value of evaluation function (g+h), if node n is goal node then return success and stop, otherwise\n",
        "\n",
        "\n",
        "# Step 4: Expand node n and generate all of its successors, and put n into the closed list. For each successor n', check whether n' is already in the OPEN or CLOSED list, if not then compute evaluation function for n' and place into Open list.\n",
        "\n",
        "# Step 5: Else if node n' is already in OPEN and CLOSED, then it should be attached to the back pointer which reflects the lowest g(n') value.\n",
        "\n",
        "# Step 6: Return to Step 2."
      ],
      "metadata": {
        "colab": {
          "base_uri": "https://localhost:8080/"
        },
        "id": "AvSnJ-MuGyKU",
        "outputId": "7e9b1c01-2855-467c-d014-d95cff02aeca"
      },
      "execution_count": null,
      "outputs": [
        {
          "output_type": "stream",
          "name": "stdout",
          "text": [
            "[(0, 0), (1, 1), (2, 2), (3, 3), (4, 3), (5, 4), (6, 5), (6, 6)]\n"
          ]
        }
      ]
    },
    {
      "cell_type": "markdown",
      "source": [
        "# A*-8 puzzle"
      ],
      "metadata": {
        "id": "rEJOqFhzH5KG"
      }
    },
    {
      "cell_type": "code",
      "source": [
        "class Node:\n",
        "    def __init__(self,data,level,fval):\n",
        "        \"\"\" Initialize the node with the data, level of the node and the calculated fvalue \"\"\"\n",
        "        self.data = data\n",
        "        self.level = level\n",
        "        self.fval = fval\n",
        "\n",
        "    def generate_child(self):\n",
        "        \"\"\" Generate child nodes from the given node by moving the blank space\n",
        "            either in the four directions {up,down,left,right} \"\"\"\n",
        "        x,y = self.find(self.data,'_')\n",
        "        \"\"\" val_list contains position values for moving the blank space in either of\n",
        "            the 4 directions [up,down,left,right] respectively. \"\"\"\n",
        "        val_list = [[x,y-1],[x,y+1],[x-1,y],[x+1,y]]\n",
        "        children = []\n",
        "        for i in val_list:\n",
        "            child = self.shuffle(self.data,x,y,i[0],i[1])\n",
        "            if child is not None:\n",
        "                child_node = Node(child,self.level+1,0)\n",
        "                children.append(child_node)\n",
        "        return children\n",
        "        \n",
        "    def shuffle(self,puz,x1,y1,x2,y2):\n",
        "        \"\"\" Move the blank space in the given direction and if the position value are out\n",
        "            of limits the return None \"\"\"\n",
        "        if x2 >= 0 and x2 < len(self.data) and y2 >= 0 and y2 < len(self.data):\n",
        "            temp_puz = []\n",
        "            temp_puz = self.copy(puz)\n",
        "            temp = temp_puz[x2][y2]\n",
        "            temp_puz[x2][y2] = temp_puz[x1][y1]\n",
        "            temp_puz[x1][y1] = temp\n",
        "            return temp_puz\n",
        "        else:\n",
        "            return None\n",
        "            \n",
        "\n",
        "    def copy(self,root):\n",
        "        \"\"\" Copy function to create a similar matrix of the given node\"\"\"\n",
        "        temp = []\n",
        "        for i in root:\n",
        "            t = []\n",
        "            for j in i:\n",
        "                t.append(j)\n",
        "            temp.append(t)\n",
        "        return temp    \n",
        "            \n",
        "    def find(self,puz,x):\n",
        "        \"\"\" Specifically used to find the position of the blank space \"\"\"\n",
        "        for i in range(0,len(self.data)):\n",
        "            for j in range(0,len(self.data)):\n",
        "                if puz[i][j] == x:\n",
        "                    return i,j\n",
        "\n",
        "\n",
        "class Puzzle:\n",
        "    def __init__(self,size):\n",
        "        \"\"\" Initialize the puzzle size by the specified size,open and closed lists to empty \"\"\"\n",
        "        self.n = size\n",
        "        self.open = []\n",
        "        self.closed = []\n",
        "\n",
        "    def accept(self):\n",
        "        \"\"\" Accepts the puzzle from the user \"\"\"\n",
        "        puz = []\n",
        "        for i in range(0,self.n):\n",
        "            temp = input().split(\" \")\n",
        "            puz.append(temp)\n",
        "        return puz\n",
        "\n",
        "    def f(self,start,goal):\n",
        "        \"\"\" Heuristic Function to calculate hueristic value f(x) = h(x) + g(x) \"\"\"\n",
        "        return self.h(start.data,goal)+start.level\n",
        "\n",
        "    def h(self,start,goal):\n",
        "        \"\"\" Calculates the different between the given puzzles \"\"\"\n",
        "        temp = 0\n",
        "        for i in range(0,self.n):\n",
        "            for j in range(0,self.n):\n",
        "                if start[i][j] != goal[i][j] and start[i][j] != '_':\n",
        "                    temp += 1\n",
        "        return temp\n",
        "        \n",
        "\n",
        "    def process(self):\n",
        "        \"\"\" Accept Start and Goal Puzzle state\"\"\"\n",
        "        print(\"Enter the start state matrix \\n\")\n",
        "        start = self.accept()\n",
        "        print(\"Enter the goal state matrix \\n\")        \n",
        "        goal = self.accept()\n",
        "\n",
        "        start = Node(start,0,0)\n",
        "        start.fval = self.f(start,goal)\n",
        "        \"\"\" Put the start node in the open list\"\"\"\n",
        "        self.open.append(start)\n",
        "        print(\"\\n\\n\")\n",
        "        while True:\n",
        "            cur = self.open[0]\n",
        "            print(\"\")\n",
        "            print(\"  | \")\n",
        "            print(\"  | \")\n",
        "            print(\" \\\\\\'/ \\n\")\n",
        "            for i in cur.data:\n",
        "                for j in i:\n",
        "                    print(j,end=\" \")\n",
        "                print(\"\")\n",
        "            \"\"\" If the difference between current and goal node is 0 we have reached the goal node\"\"\"\n",
        "            if(self.h(cur.data,goal) == 0):\n",
        "                break\n",
        "            for i in cur.generate_child():\n",
        "                i.fval = self.f(i,goal)\n",
        "                self.open.append(i)\n",
        "            self.closed.append(cur)\n",
        "            del self.open[0]\n",
        "\n",
        "            \"\"\" sort the opne list based on f value \"\"\"\n",
        "            self.open.sort(key = lambda x:x.fval,reverse=False)\n",
        "\n",
        "\n",
        "puz = Puzzle(3)\n",
        "puz.process()\n"
      ],
      "metadata": {
        "colab": {
          "base_uri": "https://localhost:8080/"
        },
        "id": "XbQwcRmzIMVy",
        "outputId": "6de0f7b7-101e-4ba2-a0da-e256af8a1f78"
      },
      "execution_count": null,
      "outputs": [
        {
          "output_type": "stream",
          "name": "stdout",
          "text": [
            "Enter the start state matrix \n",
            "\n",
            "1 2 3\n",
            "4 5 6\n",
            "7  _ 8\n",
            "Enter the goal state matrix \n",
            "\n",
            "1 2 3\n",
            "4 5 6\n",
            "7 8  9\n",
            "\n",
            "\n",
            "\n",
            "\n",
            "  | \n",
            "  | \n",
            " \\'/ \n",
            "\n",
            "1 2 3 \n",
            "4 5 6 \n",
            "7  _ 8 \n",
            "\n",
            "  | \n",
            "  | \n",
            " \\'/ \n",
            "\n",
            "1 2 3 \n",
            "4 5 6 \n",
            "7 _  8 \n"
          ]
        }
      ]
    },
    {
      "cell_type": "markdown",
      "source": [
        "# uncertain method for an application-fuzzy logic-string matching"
      ],
      "metadata": {
        "id": "djx8RNJrJeKt"
      }
    },
    {
      "cell_type": "code",
      "source": [
        "!pip install fuzzywuzzy\n",
        "!pip install python-Levenshtein"
      ],
      "metadata": {
        "colab": {
          "base_uri": "https://localhost:8080/"
        },
        "id": "ie9u4fgjKjfb",
        "outputId": "d88e2302-a494-45e9-b1fd-2bcbbabb0276"
      },
      "execution_count": null,
      "outputs": [
        {
          "output_type": "stream",
          "name": "stdout",
          "text": [
            "Collecting fuzzywuzzy\n",
            "  Downloading fuzzywuzzy-0.18.0-py2.py3-none-any.whl (18 kB)\n",
            "Installing collected packages: fuzzywuzzy\n",
            "Successfully installed fuzzywuzzy-0.18.0\n",
            "Collecting python-Levenshtein\n",
            "  Downloading python-Levenshtein-0.12.2.tar.gz (50 kB)\n",
            "\u001b[K     |████████████████████████████████| 50 kB 3.0 MB/s \n",
            "\u001b[?25hRequirement already satisfied: setuptools in /usr/local/lib/python3.7/dist-packages (from python-Levenshtein) (57.4.0)\n",
            "Building wheels for collected packages: python-Levenshtein\n",
            "  Building wheel for python-Levenshtein (setup.py) ... \u001b[?25l\u001b[?25hdone\n",
            "  Created wheel for python-Levenshtein: filename=python_Levenshtein-0.12.2-cp37-cp37m-linux_x86_64.whl size=149867 sha256=e34b2a390dca5b6cf69a5ca24db5b0416d3c453db7491a22251e7a7f79599442\n",
            "  Stored in directory: /root/.cache/pip/wheels/05/5f/ca/7c4367734892581bb5ff896f15027a932c551080b2abd3e00d\n",
            "Successfully built python-Levenshtein\n",
            "Installing collected packages: python-Levenshtein\n",
            "Successfully installed python-Levenshtein-0.12.2\n"
          ]
        }
      ]
    },
    {
      "cell_type": "code",
      "source": [
        "from fuzzywuzzy import process\n",
        "str2Match = \"apple inc\"\n",
        "strOptions = [\"Apple Inc.\",\"apple park\",\"apple incorporated\",\"iphone\",]\n",
        "Ratios = process.extract(str2Match,strOptions)\n",
        "print(Ratios)\n",
        "# You can also select the string with the highest matching percentage\n",
        "highest = process.extractOne(str2Match,strOptions)\n",
        "print(highest)\n",
        "\n",
        "\n",
        "\n",
        "\n",
        "# Fuzzywuzzy is a python library that uses Levenshtein Distance to calculate the differences between sequences and patterns"
      ],
      "metadata": {
        "colab": {
          "base_uri": "https://localhost:8080/"
        },
        "id": "dY6my8J3J7qB",
        "outputId": "95800290-475d-4fba-e7a4-172107c75dc9"
      },
      "execution_count": null,
      "outputs": [
        {
          "output_type": "stream",
          "name": "stdout",
          "text": [
            "[('Apple Inc.', 100), ('apple incorporated', 90), ('apple park', 67), ('iphone', 30)]\n",
            "('Apple Inc.', 100)\n"
          ]
        }
      ]
    },
    {
      "cell_type": "markdown",
      "source": [
        "# Machine learning-cancer detection"
      ],
      "metadata": {
        "id": "h2xBEheCNRQf"
      }
    },
    {
      "cell_type": "code",
      "source": [
        "from sklearn import datasets\n",
        "\n",
        "#Load dataset\n",
        "cancer = datasets.load_breast_cancer()"
      ],
      "metadata": {
        "id": "pNkk6DpuPazL"
      },
      "execution_count": null,
      "outputs": []
    },
    {
      "cell_type": "code",
      "source": [
        "print(\"Features: \", cancer.feature_names)\n",
        "\n",
        "# print the label type of cancer('malignant' 'benign')\n",
        "print(\"Labels: \", cancer.target_names)"
      ],
      "metadata": {
        "colab": {
          "base_uri": "https://localhost:8080/"
        },
        "id": "Rynak8SSQnnx",
        "outputId": "4e441fad-cd5a-4a0e-86e4-35585b4eec1a"
      },
      "execution_count": null,
      "outputs": [
        {
          "output_type": "stream",
          "name": "stdout",
          "text": [
            "Features:  ['mean radius' 'mean texture' 'mean perimeter' 'mean area'\n",
            " 'mean smoothness' 'mean compactness' 'mean concavity'\n",
            " 'mean concave points' 'mean symmetry' 'mean fractal dimension'\n",
            " 'radius error' 'texture error' 'perimeter error' 'area error'\n",
            " 'smoothness error' 'compactness error' 'concavity error'\n",
            " 'concave points error' 'symmetry error' 'fractal dimension error'\n",
            " 'worst radius' 'worst texture' 'worst perimeter' 'worst area'\n",
            " 'worst smoothness' 'worst compactness' 'worst concavity'\n",
            " 'worst concave points' 'worst symmetry' 'worst fractal dimension']\n",
            "Labels:  ['malignant' 'benign']\n"
          ]
        }
      ]
    },
    {
      "cell_type": "code",
      "source": [
        "from sklearn.model_selection import train_test_split\n",
        "\n",
        "# Split dataset into training set and test set\n",
        "X_train, X_test, y_train, y_test = train_test_split(cancer.data, cancer.target, test_size=0.3,random_state=109)"
      ],
      "metadata": {
        "id": "htxVNPofQ2fv"
      },
      "execution_count": null,
      "outputs": []
    },
    {
      "cell_type": "markdown",
      "source": [
        "# machine learning-support vector machine(svm)"
      ],
      "metadata": {
        "id": "3-gP2zMVRQeR"
      }
    },
    {
      "cell_type": "code",
      "source": [
        "from sklearn import svm\n",
        "\n",
        "#Create a svm Classifier\n",
        "clf = svm.SVC(kernel='linear') # Linear Kernel\n",
        "\n",
        "#Train the model using the training sets\n",
        "clf.fit(X_train, y_train)\n",
        "\n",
        "#Predict the response for test dataset\n",
        "y_pred = clf.predict(X_test)"
      ],
      "metadata": {
        "id": "IgKWXWeKRY1c"
      },
      "execution_count": null,
      "outputs": []
    },
    {
      "cell_type": "code",
      "source": [
        "from sklearn import metrics\n",
        "\n",
        "# Model Accuracy: how often is the classifier correct?\n",
        "print(\"Accuracy:\",metrics.accuracy_score(y_test, y_pred))"
      ],
      "metadata": {
        "colab": {
          "base_uri": "https://localhost:8080/"
        },
        "id": "c-nGNJPRRhUW",
        "outputId": "b6732229-9bfe-4021-e345-0004e0aeac10"
      },
      "execution_count": null,
      "outputs": [
        {
          "output_type": "stream",
          "name": "stdout",
          "text": [
            "Accuracy: 0.9649122807017544\n"
          ]
        }
      ]
    },
    {
      "cell_type": "markdown",
      "source": [
        "# naive bayes"
      ],
      "metadata": {
        "id": "E-U4Emt8Ry1P"
      }
    },
    {
      "cell_type": "code",
      "source": [
        "from sklearn.naive_bayes import GaussianNB\n",
        "classifier = GaussianNB()\n",
        "classifier.fit(X_train, y_train)\n",
        "\n",
        "#Predict the response for test dataset\n",
        "y1_pred = classifier.predict(X_test)"
      ],
      "metadata": {
        "id": "XrUkQOfGR0zn"
      },
      "execution_count": null,
      "outputs": []
    },
    {
      "cell_type": "code",
      "source": [
        "from sklearn import metrics\n",
        "\n",
        "# Model Accuracy: how often is the classifier correct?\n",
        "print(\"Accuracy:\",metrics.accuracy_score(y_test, y1_pred))\n"
      ],
      "metadata": {
        "colab": {
          "base_uri": "https://localhost:8080/"
        },
        "id": "Utfbl_7HR5Gd",
        "outputId": "7782cc28-d21f-4bfd-b1c5-b4848325e4ba"
      },
      "execution_count": null,
      "outputs": [
        {
          "output_type": "stream",
          "name": "stdout",
          "text": [
            "Accuracy: 0.9532163742690059\n"
          ]
        }
      ]
    },
    {
      "cell_type": "markdown",
      "source": [
        "# KNN"
      ],
      "metadata": {
        "id": "mxV66H1CSBUX"
      }
    },
    {
      "cell_type": "code",
      "source": [
        "from sklearn.neighbors import KNeighborsClassifier\n",
        "classifier = KNeighborsClassifier(n_neighbors = 5, metric = 'minkowski', p = 2)\n",
        "classifier.fit(X_train, y_train)\n",
        "y2_pred = classifier.predict(X_test)\n",
        "print(\"Accuracy:\",metrics.accuracy_score(y_test, y2_pred))"
      ],
      "metadata": {
        "colab": {
          "base_uri": "https://localhost:8080/"
        },
        "id": "Lk-WZhRCSEvz",
        "outputId": "d830df59-350d-446c-8a6c-ce633b8625be"
      },
      "execution_count": null,
      "outputs": [
        {
          "output_type": "stream",
          "name": "stdout",
          "text": [
            "Accuracy: 0.9649122807017544\n"
          ]
        }
      ]
    },
    {
      "cell_type": "markdown",
      "source": [
        "# decision tree"
      ],
      "metadata": {
        "id": "_bEQTTsZSNL0"
      }
    },
    {
      "cell_type": "code",
      "source": [
        "from sklearn.tree import DecisionTreeClassifier\n",
        "classifier = DecisionTreeClassifier(criterion = 'entropy', random_state = 0)\n",
        "classifier.fit(X_train, y_train)\n",
        "y3_pred = classifier.predict(X_test)\n",
        "print(\"Accuracy:\",metrics.accuracy_score(y_test, y3_pred))"
      ],
      "metadata": {
        "colab": {
          "base_uri": "https://localhost:8080/"
        },
        "id": "XhIKPBtsSPQM",
        "outputId": "818ca84c-c3fd-40f2-cbaf-5955ffdada88"
      },
      "execution_count": null,
      "outputs": [
        {
          "output_type": "stream",
          "name": "stdout",
          "text": [
            "Accuracy: 0.9415204678362573\n"
          ]
        }
      ]
    },
    {
      "cell_type": "markdown",
      "source": [
        "# random forest"
      ],
      "metadata": {
        "id": "8RfLUInfSTvW"
      }
    },
    {
      "cell_type": "code",
      "source": [
        "from sklearn.ensemble import RandomForestClassifier\n",
        "classifier = RandomForestClassifier(n_estimators = 10, criterion = 'entropy', random_state = 0)\n",
        "classifier.fit(X_train, y_train)\n",
        "y3_pred = classifier.predict(X_test)\n",
        "print(\"Accuracy:\",metrics.accuracy_score(y_test, y3_pred))"
      ],
      "metadata": {
        "colab": {
          "base_uri": "https://localhost:8080/"
        },
        "id": "3OcSvKIDSVIf",
        "outputId": "a35a2009-140f-435d-b46a-d0759c8a426a"
      },
      "execution_count": null,
      "outputs": [
        {
          "output_type": "stream",
          "name": "stdout",
          "text": [
            "Accuracy: 0.9766081871345029\n"
          ]
        }
      ]
    },
    {
      "cell_type": "markdown",
      "source": [
        "# n-queen-backtracking"
      ],
      "metadata": {
        "id": "xxeij9l4SsLe"
      }
    },
    {
      "cell_type": "code",
      "source": [
        "print (\"Enter the number of queens\")\n",
        "N = int(input())\n",
        "\n",
        "#chessboard\n",
        "#NxN matrix with all elements 0\n",
        "board = [[0]*N for _ in range(N)]\n",
        "\n",
        "def is_attack(i, j):\n",
        "    #checking if there is a queen in row or column\n",
        "    for k in range(0,N):\n",
        "        if board[i][k]==1 or board[k][j]==1:\n",
        "            return True\n",
        "    #checking diagonals\n",
        "    for k in range(0,N):\n",
        "        for l in range(0,N):\n",
        "            if (k+l==i+j) or (k-l==i-j):\n",
        "                if board[k][l]==1:\n",
        "                    return True\n",
        "    return False\n",
        "\n",
        "def N_queen(n):\n",
        "    #if n is 0, solution found\n",
        "    if n==0:\n",
        "        return True\n",
        "    for i in range(0,N):\n",
        "        for j in range(0,N):\n",
        "            '''checking if we can place a queen here or not\n",
        "            queen will not be placed if the place is being attacked\n",
        "            or already occupied'''\n",
        "            if (not(is_attack(i,j))) and (board[i][j]!=1):\n",
        "                board[i][j] = 1\n",
        "                #recursion\n",
        "                #wether we can put the next queen with this arrangment or not\n",
        "                if N_queen(n-1)==True:\n",
        "                    return True\n",
        "                board[i][j] = 0\n",
        "\n",
        "    return False\n",
        "\n",
        "N_queen(N)\n",
        "for i in board:\n",
        "    print (i)\n",
        "\n",
        "\n",
        "\n",
        "    # One of the most common examples of the backtracking is\n",
        "    #  to arrange N queens on an NxN chessboard such that no queen can strike down any other queen. \n",
        "    #  A queen can attack horizontally, vertically, or diagonally."
      ],
      "metadata": {
        "colab": {
          "base_uri": "https://localhost:8080/"
        },
        "id": "jIRdA-RPStXs",
        "outputId": "9e887022-7ca9-411f-c002-23f81830af8c"
      },
      "execution_count": null,
      "outputs": [
        {
          "output_type": "stream",
          "name": "stdout",
          "text": [
            "Enter the number of queens\n",
            "6\n",
            "[0, 1, 0, 0, 0, 0]\n",
            "[0, 0, 0, 1, 0, 0]\n",
            "[0, 0, 0, 0, 0, 1]\n",
            "[1, 0, 0, 0, 0, 0]\n",
            "[0, 0, 1, 0, 0, 0]\n",
            "[0, 0, 0, 0, 1, 0]\n"
          ]
        }
      ]
    },
    {
      "cell_type": "markdown",
      "source": [
        "# graph coloring-greedy approach"
      ],
      "metadata": {
        "id": "COmf7lcTTzz3"
      }
    },
    {
      "cell_type": "code",
      "source": [
        "class Graph:\n",
        "    def __init__(self, edges, n):\n",
        "        self.adjList = [[] for _ in range(n)]\n",
        " \n",
        "        # add edges to the undirected graph\n",
        "        for (src, dest) in edges:\n",
        "            self.adjList[src].append(dest)\n",
        "            self.adjList[dest].append(src)\n",
        " \n",
        " \n",
        "# Function to assign colors to vertices of a graph\n",
        "def colorGraph(graph, n):\n",
        " \n",
        "    # keep track of the color assigned to each vertex\n",
        "    result = {}\n",
        " \n",
        "    # assign a color to vertex one by one\n",
        "    for u in range(n):\n",
        " \n",
        "        # check colors of adjacent vertices of `u` and store them in a set\n",
        "        assigned = set([result.get(i) for i in graph.adjList[u] if i in result])\n",
        " \n",
        "        # check for the first free color\n",
        "        color = 1\n",
        "        for c in assigned:\n",
        "            if color != c:\n",
        "                break\n",
        "            color = color + 1\n",
        " \n",
        "        # assign vertex `u` the first available color\n",
        "        result[u] = color\n",
        " \n",
        "    for v in range(n):\n",
        "        print(f'Color assigned to vertex {v} is {colors[result[v]]}')\n",
        " \n",
        " \n",
        "# Greedy coloring of a graph\n",
        "if __name__ == '__main__':\n",
        " \n",
        "    # Add more colors for graphs with many more vertices\n",
        "    colors = ['', 'BLUE', 'GREEN', 'RED', 'YELLOW', 'ORANGE', 'PINK',\n",
        "            'BLACK', 'BROWN', 'WHITE', 'PURPLE', 'VOILET']\n",
        " \n",
        "    # List of graph edges as per the above diagram\n",
        "    edges = [(0, 1), (0, 4), (0, 5), (4, 5), (1, 4), (1, 3), (2, 3), (2, 4)]\n",
        " \n",
        "    # total number of nodes in the graph (labelled from 0 to 5)\n",
        "    n = 6\n",
        " \n",
        "    # build a graph from the given edges\n",
        "    graph = Graph(edges, n)\n",
        " \n",
        "    # color graph using the greedy algorithm\n",
        "    colorGraph(graph, n)\n",
        "\n",
        "\n",
        "\n",
        "    # Graph coloring (also called vertex coloring) is a way of coloring a graph’s vertices such that no two adjacent vertices share the same color.\n",
        "\n",
        "\n",
        "#     Step 1 − Arrange the vertices of the graph in some order.\n",
        "\n",
        "# Step 2 − Choose the first vertex and color it with the first color.\n",
        "\n",
        "# Step 3 − Choose the next vertex and color it with the lowest numbered color that has not been colored on any\n",
        "#  vertices adjacent to it. If all the adjacent vertices are colored with this color, assign a new color to it. \n",
        "#  Repeat this step until all the vertices are colored."
      ],
      "metadata": {
        "colab": {
          "base_uri": "https://localhost:8080/"
        },
        "id": "gNL8cVX-T17i",
        "outputId": "1457e4c5-50ab-40e8-bc5d-f648c2af474a"
      },
      "execution_count": null,
      "outputs": [
        {
          "output_type": "stream",
          "name": "stdout",
          "text": [
            "Color assigned to vertex 0 is BLUE\n",
            "Color assigned to vertex 1 is GREEN\n",
            "Color assigned to vertex 2 is BLUE\n",
            "Color assigned to vertex 3 is RED\n",
            "Color assigned to vertex 4 is RED\n",
            "Color assigned to vertex 5 is GREEN\n"
          ]
        }
      ]
    },
    {
      "cell_type": "markdown",
      "source": [
        "# linear regression-learning algo"
      ],
      "metadata": {
        "id": "tIfEtiiHUezM"
      }
    },
    {
      "cell_type": "code",
      "source": [
        "import numpy as np\n",
        "import matplotlib.pyplot as plt\n",
        " \n",
        "def estimate_coef(x, y):\n",
        "    # number of observations/points\n",
        "    n = np.size(x)\n",
        " \n",
        "    # mean of x and y vector\n",
        "    m_x = np.mean(x)\n",
        "    m_y = np.mean(y)\n",
        " \n",
        "    # calculating cross-deviation and deviation about x\n",
        "    SS_xy = np.sum(y*x) - n*m_y*m_x\n",
        "    SS_xx = np.sum(x*x) - n*m_x*m_x\n",
        " \n",
        "    # calculating regression coefficients\n",
        "    b_1 = SS_xy / SS_xx\n",
        "    b_0 = m_y - b_1*m_x\n",
        " \n",
        "    return (b_0, b_1)\n",
        " \n",
        "def plot_regression_line(x, y, b):\n",
        "    # plotting the actual points as scatter plot\n",
        "    plt.scatter(x, y, color = \"m\",\n",
        "               marker = \"o\", s = 30)\n",
        " \n",
        "    # predicted response vector\n",
        "    y_pred = b[0] + b[1]*x\n",
        " \n",
        "    # plotting the regression line\n",
        "    plt.plot(x, y_pred, color = \"g\")\n",
        " \n",
        "    # putting labels\n",
        "    plt.xlabel('x')\n",
        "    plt.ylabel('y')\n",
        " \n",
        "    # function to show plot\n",
        "    plt.show()\n",
        " \n",
        "def main():\n",
        "    # observations / data\n",
        "    x = np.array([0, 1, 2, 3, 4, 5, 6, 7, 8, 9])\n",
        "    y = np.array([1, 3, 2, 5, 7, 8, 8, 9, 10, 12])\n",
        " \n",
        "    # estimating coefficients\n",
        "    b = estimate_coef(x, y)\n",
        "    print(\"Estimated coefficients:\\nb_0 = {}  \\\n",
        "          \\nb_1 = {}\".format(b[0], b[1]))\n",
        " \n",
        "    # plotting regression line\n",
        "    plot_regression_line(x, y, b)\n",
        " \n",
        "if __name__ == \"__main__\":\n",
        "    main()"
      ],
      "metadata": {
        "colab": {
          "base_uri": "https://localhost:8080/",
          "height": 331
        },
        "id": "N3d5kt2iWKc-",
        "outputId": "46762982-6e88-4292-c6e5-25c72f902fea"
      },
      "execution_count": null,
      "outputs": [
        {
          "output_type": "stream",
          "name": "stdout",
          "text": [
            "Estimated coefficients:\n",
            "b_0 = 1.2363636363636363            \n",
            "b_1 = 1.1696969696969697\n"
          ]
        },
        {
          "output_type": "display_data",
          "data": {
            "text/plain": [
              "<Figure size 432x288 with 1 Axes>"
            ],
            "image/png": "[encoded data removed]"
          },
          "metadata": {
            "needs_background": "light"
          }
        }
      ]
    },
    {
      "cell_type": "markdown",
      "source": [
        "# NLP"
      ],
      "metadata": {
        "id": "elJg7s-yacgb"
      }
    },
    {
      "cell_type": "code",
      "source": [
        "# import the necessary libraries\n",
        "import nltk\n",
        "import string\n",
        "import re"
      ],
      "metadata": {
        "id": "XrG-AoMLfmTv"
      },
      "execution_count": null,
      "outputs": []
    },
    {
      "cell_type": "code",
      "source": [
        "def text_lowercase(text):\n",
        "    return text.lower()\n",
        " \n",
        "input_str = \"Hey, did you know that the summer break is coming? Amazing right !! It's only 5 more days !!\"\n",
        "text_lowercase(input_str)"
      ],
      "metadata": {
        "colab": {
          "base_uri": "https://localhost:8080/",
          "height": 36
        },
        "id": "BGmHfKkvfn_9",
        "outputId": "e2428cb5-d926-49c2-a8e5-82530e8ddcf0"
      },
      "execution_count": null,
      "outputs": [
        {
          "output_type": "execute_result",
          "data": {
            "text/plain": [
              "\"hey, did you know that the summer break is coming? amazing right !! it's only 5 more days !!\""
            ],
            "application/vnd.google.colaboratory.intrinsic+json": {
              "type": "string"
            }
          },
          "metadata": {},
          "execution_count": 65
        }
      ]
    },
    {
      "cell_type": "code",
      "source": [
        "# Remove numbers\n",
        "def remove_numbers(text):\n",
        "    result = re.sub(r'\\d+', '', text)\n",
        "    return result\n",
        " \n",
        "input_str = \"There are 3 balls in this bag, and 12 in the other one.\"\n",
        "remove_numbers(input_str)"
      ],
      "metadata": {
        "colab": {
          "base_uri": "https://localhost:8080/",
          "height": 36
        },
        "id": "Q5-0jbLefwyE",
        "outputId": "79cfb3f9-79ae-48db-bbf4-6c8953cca07f"
      },
      "execution_count": null,
      "outputs": [
        {
          "output_type": "execute_result",
          "data": {
            "text/plain": [
              "'There are  balls in this bag, and  in the other one.'"
            ],
            "application/vnd.google.colaboratory.intrinsic+json": {
              "type": "string"
            }
          },
          "metadata": {},
          "execution_count": 66
        }
      ]
    },
    {
      "cell_type": "code",
      "source": [
        "# import the inflect library\n",
        "import inflect\n",
        "p = inflect.engine()\n",
        " \n",
        "# convert number into words\n",
        "def convert_number(text):\n",
        "    # split string into list of words\n",
        "    temp_str = text.split()\n",
        "    # initialise empty list\n",
        "    new_string = []\n",
        " \n",
        "    for word in temp_str:\n",
        "        # if word is a digit, convert the digit\n",
        "        # to numbers and append into the new_string list\n",
        "        if word.isdigit():\n",
        "            temp = p.number_to_words(word)\n",
        "            new_string.append(temp)\n",
        " \n",
        "        # append the word as it is\n",
        "        else:\n",
        "            new_string.append(word)\n",
        " \n",
        "    # join the words of new_string to form a string\n",
        "    temp_str = ' '.join(new_string)\n",
        "    return temp_str\n",
        " \n",
        "input_str = 'There are 3 balls in this bag, and 12 in the other one.'\n",
        "convert_number(input_str)"
      ],
      "metadata": {
        "colab": {
          "base_uri": "https://localhost:8080/",
          "height": 36
        },
        "id": "IhUot-0ffzCV",
        "outputId": "39041ff8-a1ce-4099-a985-d1340d5ad576"
      },
      "execution_count": null,
      "outputs": [
        {
          "output_type": "execute_result",
          "data": {
            "text/plain": [
              "'There are three balls in this bag, and twelve in the other one.'"
            ],
            "application/vnd.google.colaboratory.intrinsic+json": {
              "type": "string"
            }
          },
          "metadata": {},
          "execution_count": 67
        }
      ]
    },
    {
      "cell_type": "code",
      "source": [
        "# remove punctuation\n",
        "def remove_punctuation(text):\n",
        "    translator = str.maketrans('', '', string.punctuation)\n",
        "    return text.translate(translator)\n",
        " \n",
        "input_str = \"Hey, did you know that the summer break is coming? Amazing right !! It's only 5 more days !!\"\n",
        "remove_punctuation(input_str)"
      ],
      "metadata": {
        "colab": {
          "base_uri": "https://localhost:8080/",
          "height": 36
        },
        "id": "ugTWnu9Df44T",
        "outputId": "ca499b17-e9b0-4261-a146-84ffdcb2309f"
      },
      "execution_count": null,
      "outputs": [
        {
          "output_type": "execute_result",
          "data": {
            "text/plain": [
              "'Hey did you know that the summer break is coming Amazing right  Its only 5 more days '"
            ],
            "application/vnd.google.colaboratory.intrinsic+json": {
              "type": "string"
            }
          },
          "metadata": {},
          "execution_count": 68
        }
      ]
    },
    {
      "cell_type": "code",
      "source": [
        "# remove whitespace from text\n",
        "def remove_whitespace(text):\n",
        "    return  \" \".join(text.split())\n",
        " \n",
        "input_str = \"   we don't need   the given questions\"\n",
        "remove_whitespace(input_str)"
      ],
      "metadata": {
        "colab": {
          "base_uri": "https://localhost:8080/",
          "height": 36
        },
        "id": "ka9OQ6o9f9eN",
        "outputId": "de5af9bb-6f8d-4a7b-93c6-e723e1a5151e"
      },
      "execution_count": null,
      "outputs": [
        {
          "output_type": "execute_result",
          "data": {
            "text/plain": [
              "\"we don't need the given questions\""
            ],
            "application/vnd.google.colaboratory.intrinsic+json": {
              "type": "string"
            }
          },
          "metadata": {},
          "execution_count": 69
        }
      ]
    }
  ]
}